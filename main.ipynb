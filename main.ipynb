{
  "nbformat": 4,
  "nbformat_minor": 0,
  "metadata": {
    "colab": {
      "provenance": [],
      "toc_visible": true,
      "authorship_tag": "ABX9TyPZwe1eKC9gH2AI28+Jk1kY",
      "include_colab_link": true
    },
    "kernelspec": {
      "name": "python3",
      "display_name": "Python 3"
    },
    "language_info": {
      "name": "python"
    }
  },
  "cells": [
    {
      "cell_type": "markdown",
      "metadata": {
        "id": "view-in-github",
        "colab_type": "text"
      },
      "source": [
        "<a href=\"https://colab.research.google.com/github/robotstech/similarity-ml/blob/main/main.ipynb\" target=\"_parent\"><img src=\"https://colab.research.google.com/assets/colab-badge.svg\" alt=\"Open In Colab\"/></a>"
      ]
    },
    {
      "cell_type": "code",
      "execution_count": 1,
      "metadata": {
        "id": "PurCrRUssTN9"
      },
      "outputs": [],
      "source": [
        "%load_ext autoreload\n",
        "%autoreload 2"
      ]
    },
    {
      "cell_type": "markdown",
      "source": [
        "## Load data"
      ],
      "metadata": {
        "id": "jF0CMVyjs6oG"
      }
    },
    {
      "cell_type": "code",
      "source": [
        "import numpy as np\n",
        "from tensorflow import keras\n",
        "\n",
        "\n",
        "# the data, split between train and test sets\n",
        "(x_train, y_train), (x_test, y_test) = keras.datasets.mnist.load_data()\n",
        "\n",
        "\n",
        "x_train = np.expand_dims(x_train, axis=-1) / 255.\n",
        "x_test = np.expand_dims(x_test, axis=-1) / 255.\n",
        "\n",
        "print(f\"{x_train.shape=} {y_train.shape=}\")\n",
        "print(f\"{x_train.shape=} {y_test.shape=}\")"
      ],
      "metadata": {
        "colab": {
          "base_uri": "https://localhost:8080/"
        },
        "id": "R1jrLt3Gsvl0",
        "outputId": "816904e2-faf0-425d-a79d-a77e40edd5c0"
      },
      "execution_count": 5,
      "outputs": [
        {
          "output_type": "stream",
          "name": "stdout",
          "text": [
            "Downloading data from https://storage.googleapis.com/tensorflow/tf-keras-datasets/mnist.npz\n",
            "11490434/11490434 [==============================] - 0s 0us/step\n",
            "x_train.shape=(60000, 28, 28, 1) y_train.shape=(60000,)\n",
            "x_train.shape=(60000, 28, 28, 1) y_test.shape=(10000,)\n"
          ]
        }
      ]
    },
    {
      "cell_type": "markdown",
      "source": [
        "## Visualise Data"
      ],
      "metadata": {
        "id": "PE8PfqKEtAch"
      }
    },
    {
      "cell_type": "markdown",
      "source": [
        "### Label distribution"
      ],
      "metadata": {
        "id": "kpf5zCX0tMij"
      }
    },
    {
      "cell_type": "code",
      "source": [
        "from collections import Counter\n",
        "from matplotlib import pyplot as plt\n",
        "\n",
        "label_distribution = Counter(y_train)\n",
        "plt.bar(label_distribution.keys(), label_distribution.values())\n",
        "plt.show()"
      ],
      "metadata": {
        "colab": {
          "base_uri": "https://localhost:8080/",
          "height": 267
        },
        "id": "N4YR-0w4tFDB",
        "outputId": "cc5b8096-26ef-41be-f13f-4d44304df50d"
      },
      "execution_count": 6,
      "outputs": [
        {
          "output_type": "display_data",
          "data": {
            "text/plain": [
              "<Figure size 432x288 with 1 Axes>"
            ],
            "image/png": "[encoded data removed]"
          },
          "metadata": {
            "needs_background": "light"
          }
        }
      ]
    },
    {
      "cell_type": "markdown",
      "source": [
        "hello"
      ],
      "metadata": {
        "id": "VWQeihNVtVOK"
      }
    },
    {
      "cell_type": "code",
      "source": [],
      "metadata": {
        "id": "CzuHavPktU-q"
      },
      "execution_count": null,
      "outputs": []
    },
    {
      "cell_type": "code",
      "source": [],
      "metadata": {
        "id": "iqsfOuoitDba"
      },
      "execution_count": null,
      "outputs": []
    }
  ]
}